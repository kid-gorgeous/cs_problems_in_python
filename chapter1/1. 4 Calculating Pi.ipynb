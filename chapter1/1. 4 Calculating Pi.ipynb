{
 "cells": [
  {
   "cell_type": "markdown",
   "id": "64047491",
   "metadata": {},
   "source": [
    "### 1.4 Calculating Pi\n",
    "---\n",
    "\n",
    "The mathematically significant number pi ($\\pi$ or 3.14159...) can be derived using many formulas. One of the simplest is the Leibniz formula. It posits that the convergence of the following infinite series is equal to pi:\n",
    "\n",
    "$\\pi = 4/1 - 4/3 + 4/5 - 4/7 + 4/9 - 4/11 ...$\n",
    "\n",
    "You will notice that the infinite series' numerator remains 4 while the denominator increases by 2, and the operation on the terms altenates between addition and subtraction.\n",
    "\n",
    "We can model the series in a straightforward way by translating pieces of the formula into variables in a function. The numerator can be a constant 4. The denominatior can be a variable that begins at 1 and is incremented by 2. The operation can be represented as either -1 or 1 based on whether we are adding or subtracting. Finally, the variable pi is used in listing 1.19 to collect the sum of the series as the for loop proceeds."
   ]
  },
  {
   "cell_type": "code",
   "execution_count": 1,
   "id": "9e1bfd3d",
   "metadata": {},
   "outputs": [
    {
     "name": "stdout",
     "output_type": "stream",
     "text": [
      "3.1415916535897743\n"
     ]
    }
   ],
   "source": [
    "def calculate_pi(n_terms: int) -> float:\n",
    "    numerator: float = 4.0\n",
    "    denominator: float = 1.0\n",
    "    operation: float = 1.0\n",
    "    pi: float = 0.0\n",
    "    for _ in range(n_terms):\n",
    "        pi += operation * (numerator / denominator)\n",
    "        denominator += 2.0\n",
    "        operation *= -1.0\n",
    "    return pi\n",
    "\n",
    "if __name__ == \"__main__\":\n",
    "    print(calculate_pi(1000000))"
   ]
  },
  {
   "cell_type": "markdown",
   "id": "058b9287",
   "metadata": {},
   "source": [
    "**TIP**: On most platforms, Python floats are 64-bit floating-point numbers (or double in C).\n",
    "\n",
    "This function is an example of how rote conversion between formula and programmatic code can be both simple and effective in modeling or simulating an interesting concept. Rote conversion is a useful tool, but w must keep in mind that it is not neccessarily the most efficient solution. Certainly, the Leibniz formula for pi can be implemented with more efficient or compact code.\n",
    "\n",
    "**NOTE**: the more terms in the infinite series (the higher the value of n_terms when calculate_pi() i"
   ]
  }
 ],
 "metadata": {
  "kernelspec": {
   "display_name": "Python 3 (ipykernel)",
   "language": "python",
   "name": "python3"
  },
  "language_info": {
   "codemirror_mode": {
    "name": "ipython",
    "version": 3
   },
   "file_extension": ".py",
   "mimetype": "text/x-python",
   "name": "python",
   "nbconvert_exporter": "python",
   "pygments_lexer": "ipython3",
   "version": "3.11.3"
  }
 },
 "nbformat": 4,
 "nbformat_minor": 5
}
