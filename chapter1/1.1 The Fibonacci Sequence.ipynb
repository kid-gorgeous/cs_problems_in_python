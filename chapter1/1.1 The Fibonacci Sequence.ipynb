{
 "cells": [
  {
   "cell_type": "markdown",
   "id": "0935bd6b",
   "metadata": {},
   "source": [
    "### 1.1 The Fibonacci Sequence\n",
    "---\n",
    "\n",
    "The fibonacci sequence is a sequence of numbers such that any number, except for the first and the second, is the sum of the previous two: 0, 1, 1, 2, 3, 5, 8, 13, 21, ...\n",
    "\n",
    "The value of the first Fibonacci number in the sequence is 0. The value of the fourth Fibonacci number is 2. It follows that to get the value of any Fibonacci number, n, in the sequence, one can use the formula. \n",
    "\n",
    "fib(n) = fib(n - 1) + fib(n - 2)\n",
    "\n",
    "#### 1.1.1 A first recursive attempt\n",
    "\n",
    "The preceding formula for computing a number in the Fibonacci sequence is a form of code that can be trivially translated into a ***recursive*** Python function. (A recursive function is a function that calls itself). This mechanical translation will serve as our first attempt at writing a function to return a given value of the Fibonacci sequence. \n"
   ]
  },
  {
   "cell_type": "code",
   "execution_count": 1,
   "id": "51b3a0c2",
   "metadata": {},
   "outputs": [
    {
     "ename": "RecursionError",
     "evalue": "maximum recursion depth exceeded",
     "output_type": "error",
     "traceback": [
      "\u001b[0;31m---------------------------------------------------------------------------\u001b[0m",
      "\u001b[0;31mRecursionError\u001b[0m                            Traceback (most recent call last)",
      "Cell \u001b[0;32mIn[1], line 4\u001b[0m\n\u001b[1;32m      1\u001b[0m \u001b[38;5;28;01mdef\u001b[39;00m \u001b[38;5;21mfib1\u001b[39m(n: \u001b[38;5;28mint\u001b[39m) \u001b[38;5;241m-\u001b[39m\u001b[38;5;241m>\u001b[39m \u001b[38;5;28mint\u001b[39m: \n\u001b[1;32m      2\u001b[0m     \u001b[38;5;28;01mreturn\u001b[39;00m fib1(n \u001b[38;5;241m-\u001b[39m \u001b[38;5;241m1\u001b[39m) \u001b[38;5;241m+\u001b[39m fib1(n \u001b[38;5;241m-\u001b[39m \u001b[38;5;241m2\u001b[39m)\n\u001b[0;32m----> 4\u001b[0m \u001b[38;5;28mprint\u001b[39m(\u001b[43mfib1\u001b[49m\u001b[43m(\u001b[49m\u001b[38;5;241;43m5\u001b[39;49m\u001b[43m)\u001b[49m)\n",
      "Cell \u001b[0;32mIn[1], line 2\u001b[0m, in \u001b[0;36mfib1\u001b[0;34m(n)\u001b[0m\n\u001b[1;32m      1\u001b[0m \u001b[38;5;28;01mdef\u001b[39;00m \u001b[38;5;21mfib1\u001b[39m(n: \u001b[38;5;28mint\u001b[39m) \u001b[38;5;241m-\u001b[39m\u001b[38;5;241m>\u001b[39m \u001b[38;5;28mint\u001b[39m: \n\u001b[0;32m----> 2\u001b[0m     \u001b[38;5;28;01mreturn\u001b[39;00m \u001b[43mfib1\u001b[49m\u001b[43m(\u001b[49m\u001b[43mn\u001b[49m\u001b[43m \u001b[49m\u001b[38;5;241;43m-\u001b[39;49m\u001b[43m \u001b[49m\u001b[38;5;241;43m1\u001b[39;49m\u001b[43m)\u001b[49m \u001b[38;5;241m+\u001b[39m fib1(n \u001b[38;5;241m-\u001b[39m \u001b[38;5;241m2\u001b[39m)\n",
      "Cell \u001b[0;32mIn[1], line 2\u001b[0m, in \u001b[0;36mfib1\u001b[0;34m(n)\u001b[0m\n\u001b[1;32m      1\u001b[0m \u001b[38;5;28;01mdef\u001b[39;00m \u001b[38;5;21mfib1\u001b[39m(n: \u001b[38;5;28mint\u001b[39m) \u001b[38;5;241m-\u001b[39m\u001b[38;5;241m>\u001b[39m \u001b[38;5;28mint\u001b[39m: \n\u001b[0;32m----> 2\u001b[0m     \u001b[38;5;28;01mreturn\u001b[39;00m \u001b[43mfib1\u001b[49m\u001b[43m(\u001b[49m\u001b[43mn\u001b[49m\u001b[43m \u001b[49m\u001b[38;5;241;43m-\u001b[39;49m\u001b[43m \u001b[49m\u001b[38;5;241;43m1\u001b[39;49m\u001b[43m)\u001b[49m \u001b[38;5;241m+\u001b[39m fib1(n \u001b[38;5;241m-\u001b[39m \u001b[38;5;241m2\u001b[39m)\n",
      "    \u001b[0;31m[... skipping similar frames: fib1 at line 2 (2970 times)]\u001b[0m\n",
      "Cell \u001b[0;32mIn[1], line 2\u001b[0m, in \u001b[0;36mfib1\u001b[0;34m(n)\u001b[0m\n\u001b[1;32m      1\u001b[0m \u001b[38;5;28;01mdef\u001b[39;00m \u001b[38;5;21mfib1\u001b[39m(n: \u001b[38;5;28mint\u001b[39m) \u001b[38;5;241m-\u001b[39m\u001b[38;5;241m>\u001b[39m \u001b[38;5;28mint\u001b[39m: \n\u001b[0;32m----> 2\u001b[0m     \u001b[38;5;28;01mreturn\u001b[39;00m \u001b[43mfib1\u001b[49m\u001b[43m(\u001b[49m\u001b[43mn\u001b[49m\u001b[43m \u001b[49m\u001b[38;5;241;43m-\u001b[39;49m\u001b[43m \u001b[49m\u001b[38;5;241;43m1\u001b[39;49m\u001b[43m)\u001b[49m \u001b[38;5;241m+\u001b[39m fib1(n \u001b[38;5;241m-\u001b[39m \u001b[38;5;241m2\u001b[39m)\n",
      "\u001b[0;31mRecursionError\u001b[0m: maximum recursion depth exceeded"
     ]
    }
   ],
   "source": [
    "def fib1(n: int) -> int: \n",
    "    return fib1(n - 1) + fib1(n - 2)\n",
    "\n",
    "print(fib1(5))\n",
    "# this creates an error: max recursion depth"
   ]
  },
  {
   "cell_type": "markdown",
   "id": "37ba4618",
   "metadata": {},
   "source": [
    "The issues this creates is that the fib1 function will run forever without returning a final result. Every call to fib1() results in another two calls of fib1() with no end in sight. We call such a circumstance *infinite recursion* and it is analogous to an *infinit loop* \n",
    "\n",
    "#### 1.1.2 Utilizing base cases\n",
    "\n",
    "Notice that until you run fib1(), there is no indication from your Python environment that there is anything wrong. It is the duty of the programmer to avoid infinite recursion. The reason for the infinite recursion is that we never specified a base case. In a recursive function, a base case serves as a stopping point. \n",
    "\n",
    "In the case of the Fibonacci function, we have natural base cases in the form of the special first two sequence values, 0, and 1. Neither 0 nor 1 is the sum of the previous two numbers in the sequence. Instead, they are the special first two values. "
   ]
  },
  {
   "cell_type": "code",
   "execution_count": 2,
   "id": "76d941da",
   "metadata": {},
   "outputs": [],
   "source": [
    "def fib2(n: int) -> int:\n",
    "    if n < 2:    # base case\n",
    "        return n\n",
    "    return fib2(n - 2) + fib2(n - 1)"
   ]
  },
  {
   "cell_type": "markdown",
   "id": "572bc7ec",
   "metadata": {},
   "source": [
    "**Note**: The fib2 version of the Fibonacci function returns 0 as the zeroth number, rather than the first number, as in our original proposition. In a programming context, this kind of makes sense because we are used to sequences starting with a zeroth context.\n",
    "\n",
    "fib2() can be called successfully and will return correct results. Try calling it with some small values. "
   ]
  },
  {
   "cell_type": "code",
   "execution_count": 3,
   "id": "d973615b",
   "metadata": {},
   "outputs": [
    {
     "name": "stdout",
     "output_type": "stream",
     "text": [
      "5\n",
      "55\n"
     ]
    }
   ],
   "source": [
    "print(fib2(5))\n",
    "print(fib2(10))"
   ]
  },
  {
   "cell_type": "markdown",
   "id": "ebbd67d2",
   "metadata": {},
   "source": [
    "Do not try calling fib2(50). It will never finish executing! Every call results in two more calls to fib2() by way of the recursive calls fib2(n - 1) and fib2(n - 2). In other words, the call tree grows exponentially.\n",
    "\n",
    "#### 1.1.3 Memorization to the rescue\n",
    "\n",
    "*Memorization* is a technique in which you store the results of computational tasks when they are completed so that when you need them again, you can look them up instead of needing to compute them a second time. \n",
    "\n",
    "Let's create a new version of the Fibonacci function that utilizes a Python dictionary for memorization purposes."
   ]
  },
  {
   "cell_type": "code",
   "execution_count": 4,
   "id": "5a03fd85",
   "metadata": {},
   "outputs": [
    {
     "name": "stdout",
     "output_type": "stream",
     "text": [
      "5\n",
      "12586269025\n"
     ]
    }
   ],
   "source": [
    "from typing import Dict\n",
    "memo: Dict[int, int] = {0: 0, 1: 1}    # our base cases\n",
    "    \n",
    "def fib3(n: int) -> int:\n",
    "    if n not in memo:\n",
    "        memo[n] = fib3(n - 1) + fib3(n - 2)    # memorization\n",
    "    return memo[n]\n",
    "\n",
    "print(fib3(5))\n",
    "print(fib3(50))"
   ]
  },
  {
   "cell_type": "markdown",
   "id": "38a85c8b",
   "metadata": {},
   "source": [
    "A call to fib3(20) will result in just 39 calls of fib3 as opposed to th 21,891 of fib2 resulting from the call fib(20). memo is prefilled with the earlier base cases of 0 and 1, saving fib3() from the complexity of another if statement. \n",
    "\n",
    "#### 1.1.4 Automatic memorization\n",
    "\n",
    "fib3() can be further simplified. Python has a built-in decorator for memoizing any function automagically. In fib4(), the decorator @functools.lru_cache() is used with the same exact code as we used in fib2(). Each time fib4() is executed with a novel argument, the decorator causes the return value to be cached. Upon future calls of fib4() with the same argument, the previous return value of fib4() for that arguement is retrieved from the cache and returned."
   ]
  },
  {
   "cell_type": "code",
   "execution_count": 5,
   "id": "882a6a59",
   "metadata": {},
   "outputs": [
    {
     "name": "stdout",
     "output_type": "stream",
     "text": [
      "5\n",
      "12586269025\n"
     ]
    }
   ],
   "source": [
    "from functools import lru_cache\n",
    "\n",
    "@lru_cache(maxsize=None)\n",
    "def fib4(n: int) -> int:    # same definition as fib2()\n",
    "    if n < 2:    # base case\n",
    "        return n\n",
    "    return fib4(n - 2) + fib4(n - 1)    # recursive case\n",
    "\n",
    "print(fib4(5))\n",
    "print(fib4(50))"
   ]
  },
  {
   "cell_type": "markdown",
   "id": "c22cf797",
   "metadata": {},
   "source": [
    "Note that we can calculate fib4(50) instantly, even though the body of the Fibonacci function is the same as that in fib2().@lru_cache's maxsize property indicates how many of the most recent calls of the function it is decorating should be cached. Setting it to None indicates that there is no limit. \n",
    "\n",
    "#### 1.1.5 Keep it simple, Fibonacci\n",
    "\n",
    "There is an even more performant option. We can solve this with an old-fashioned iterative approach. "
   ]
  },
  {
   "cell_type": "code",
   "execution_count": 6,
   "id": "a9cbd7a5",
   "metadata": {},
   "outputs": [
    {
     "name": "stdout",
     "output_type": "stream",
     "text": [
      "5\n",
      "12586269025\n"
     ]
    }
   ],
   "source": [
    "def fib5(n: int) -> int:\n",
    "    if n == 0: return n    # special case\n",
    "    last: int = 0    # initially set to fib(0)\n",
    "    next: int = 1    # initially set to fib(1)\n",
    "    for _ in range(1, n):\n",
    "        last, next = next, last + next\n",
    "    return next\n",
    "\n",
    "print(fib5(5))\n",
    "print(fib5(50))"
   ]
  },
  {
   "cell_type": "markdown",
   "id": "37e892db",
   "metadata": {},
   "source": [
    "**Warning**: The body of the for loop in fib5() uses tuple unpacking in perhaps a bit of an overly clever way. Some may feel that it sacrifices readability for conciseness. Others may find the conciseness in and of itself more readable. The gist is, last is being set to the previous value of next, and next is being set to the previous value of last plus the previous value of next. This avoids the creation of a temporary variable to hold the old value of next after last is updated but before next is updated. Using tuple unpacking in this fashion for some kind of variable swap in common in Python. \n",
    "\n",
    "With this approach, the body of the for loop will run a maximum of n - 1 times. In other words, this is the most efficient version yet. Compare 19 runs of the for loop body to 21,891 recursive calls of fib2() for the 20th Fibonacci number. That could make a serious difference in real-world applications.\n",
    "    In the recursive solutions, we worked backward. In this iterative solution, we work forward. Sometimes recursion is the most intuitive way to solve a problem. For example, the meat of fib1() and fib2() is pretty much a mechanical translation of the original Fibonacci formula. However, naive recursive solutions can also come with signigicant performance costs. Remember, any problem that can be solved recursively can also be solved iteratively. \n",
    "    \n",
    "#### 1.1.6 Generating Fibonacci numbers with a generator\n",
    "\n",
    "So far, we have written functions that output a single value in the Fibonacci sequence. What if we want to output the entire sequence up to some value instead? It is easy to convert fib5() into a Python generator using the yeild statement. When the generator is iterated, each iteration will spew a value from the Fibonacci sequence using a yield statement."
   ]
  },
  {
   "cell_type": "code",
   "execution_count": 7,
   "id": "f66fd9f6",
   "metadata": {},
   "outputs": [
    {
     "name": "stdout",
     "output_type": "stream",
     "text": [
      "0\n",
      "1\n",
      "1\n",
      "2\n",
      "3\n",
      "5\n",
      "8\n",
      "13\n",
      "21\n",
      "34\n",
      "55\n",
      "89\n",
      "144\n",
      "233\n",
      "377\n",
      "610\n",
      "987\n",
      "1597\n",
      "2584\n",
      "4181\n",
      "6765\n",
      "10946\n",
      "17711\n",
      "28657\n",
      "46368\n",
      "75025\n",
      "121393\n",
      "196418\n",
      "317811\n",
      "514229\n",
      "832040\n",
      "1346269\n",
      "2178309\n",
      "3524578\n",
      "5702887\n",
      "9227465\n",
      "14930352\n",
      "24157817\n",
      "39088169\n",
      "63245986\n",
      "102334155\n",
      "165580141\n",
      "267914296\n",
      "433494437\n",
      "701408733\n",
      "1134903170\n",
      "1836311903\n",
      "2971215073\n",
      "4807526976\n",
      "7778742049\n",
      "12586269025\n"
     ]
    }
   ],
   "source": [
    "from typing import Generator\n",
    "\n",
    "def fib6(n: int) -> Generator[int, None, None]:\n",
    "    yield 0    # special case\n",
    "    if n > 0: yield 1    # special case\n",
    "    last: int = 0    # initially set to fib(0)\n",
    "    next: int = 1    # initially set to fib(1)\n",
    "    for _ in range(1, n):\n",
    "        last, next = next, last + next\n",
    "        yield next    # main generation step\n",
    "        \n",
    "for i in fib6(50):\n",
    "    print(i)"
   ]
  },
  {
   "cell_type": "markdown",
   "id": "fae2aba8",
   "metadata": {},
   "source": [
    "If you run fib6.py, you will see 51 numbers in the Fibonacci sequence printed. For each iteration of the for loop for i in fib6(50):, fib6() runs through to a yield statement. If the end of the function is reached and there are no more yield statements, the loop finishes iterating. "
   ]
  }
 ],
 "metadata": {
  "kernelspec": {
   "display_name": "Python 3 (ipykernel)",
   "language": "python",
   "name": "python3"
  },
  "language_info": {
   "codemirror_mode": {
    "name": "ipython",
    "version": 3
   },
   "file_extension": ".py",
   "mimetype": "text/x-python",
   "name": "python",
   "nbconvert_exporter": "python",
   "pygments_lexer": "ipython3",
   "version": "3.11.3"
  }
 },
 "nbformat": 4,
 "nbformat_minor": 5
}
