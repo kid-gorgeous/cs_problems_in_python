{
 "cells": [
  {
   "cell_type": "markdown",
   "id": "70823834",
   "metadata": {},
   "source": [
    "### 1.5 The Towers of Hanoi\n",
    "---\n",
    "\n",
    "Three vartical pegs (henceforth \"towers\") stand tall. We will label them A, B, and C. Doughnut-shaped discs are around tower A. The widest disc is at the bottom, and we will call it disc 1. The rest of the discs above disc 1 are labeled with increasing numerals and get progressively narrower. For instance, if we were to work with three discs, the widest discs, the one on the bottom, would be 1. The next widest disc, disc 2, would sit on top of disc 1. And finally, the narrowest disc, disc 3, would sit on top of disc. The goal is to move all of the discs from tower A to tower C given the following constraints:\n",
    "\n",
    "- Only one disc can be moved at a time.\n",
    "- The topmost disc of any tower is the only one available for moving\n",
    "- A wider disc can never be atop a narrower disc.\n",
    "\n",
    "#### 1.5.1 Modelling the towers\n",
    "\n",
    "A stack is a data structure that is modeled on the concept of Last-in-Last-out (LIFO). The last thing put into it is the first thing that comes out of it. The two most basic operations on a stack are push and pop. A *push* puts a new item into a stack, whereas a *pop* removes the returns the last item put in. We can easily model a stack in Python using a list as a backing store.\n",
    "\n"
   ]
  },
  {
   "cell_type": "code",
   "execution_count": 2,
   "id": "aa597f55",
   "metadata": {},
   "outputs": [],
   "source": [
    "from typing import TypeVar, Generic, List\n",
    "T = TypeVar('T')\n",
    "\n",
    "class Stack(Generic[T]):\n",
    "    def __init__(self) -> None:\n",
    "        self._container: List[T] = []\n",
    "            \n",
    "    def push(self, item: T) -> None:\n",
    "        self._container.append(item)\n",
    "    \n",
    "    def pop(self) -> T:\n",
    "        return self._container.pop()\n",
    "    \n",
    "    def __repr__(self) -> str:\n",
    "        return repr(self._containter)"
   ]
  },
  {
   "cell_type": "markdown",
   "id": "1cb322c1",
   "metadata": {},
   "source": [
    "**NOTE**: This Stack class implements __repr__() so that we can easily explore the contents of a tower. __repr__() is what will be output when print() is applied to a Stack.\n",
    "\n",
    "**NOTE**: As was described in the introduction, this book utilizes type hints throughtout. The import of Generic from the typing modules enables Stack to be generic over a particular type in type hints. The arbitrary type T is defined in T = TypeVar('T'). T can be any type. When a type hint is later used for a Stack to solve the Hanoi problem, it is type-hinted as type Stack[int], which means T is filled in with type int. In other words, the stack is a stack of integers. If you are struggling with type hints, take a look at appendix C.\n",
    "\n",
    "Stacks are perfect stand-ins for the towers in The Towers of Hanoi. When we want to put a dics onto a tower, we can just push the disc to the stack. When we want to move a disc from one tower to another, we can pop it from the first and push it onto the second. \n",
    "\n",
    "Let's define our tower as Stacks and fill the first tower with discs."
   ]
  },
  {
   "cell_type": "code",
   "execution_count": 3,
   "id": "27ac3993",
   "metadata": {},
   "outputs": [],
   "source": [
    "num_discs: int = 3\n",
    "tower_a: Stack[int] = Stack()\n",
    "tower_b: Stack[int] = Stack()\n",
    "tower_c: Stack[int] = Stack()\n",
    "    \n",
    "for _ in range(1, num_discs + 1):\n",
    "    tower_a.push(_)"
   ]
  },
  {
   "cell_type": "markdown",
   "id": "f5fdb46c",
   "metadata": {},
   "source": [
    "#### 1.5.2 Solving The Tower of Hanoi\n",
    "\n",
    "How can The Towers of Hanoi be solved? Imagine we were only trying to move 1 disc. We would know how to do that, right? In fact, moving one disc is our base cose for a recursive solution to The Tower of Hanoi. The recursive case is moving more than one disc. Therefore, the key insight is that we essentially have two scenarios we need to codify: moving one disc (the base case) and moving more than one disc (the recursive case).\n",
    "\n",
    "Let's look at a specific example to understand the recursive case. Say we have three discs (top, middle, and bottom) on tower A that we want to move to tower C. (It may help to sketch out the problem as you follow along.) We could first move the top disc to tower C. Then we could move the middle disc to tower B. Then we could move the top dics from tower C from tower B. Essentially, we have now successfully moved two discsfrom one tower (A) to another tower (B). Moving the bottom disc from A to C is our base case (moving a single disc). Now we can move the two upper discs from B to C in the same procedure that we did from A to B. We move the top disc to A, the middle disc to C, and finally the top disc from A to C.\n",
    "\n",
    "**TIP** In a computer science classroom, it is not uncommon to see a little model of the towers built using dowels and plastic doughnuts. You can build you own model using three pencils and three pieces of paper. It may help you visualize the solution.\n",
    "\n",
    "In our three-disc example, we had a simple base case of moving a single disc and a recursive case of moving all of the other disc (two in this case), using the third tower temporarily. We could break the recursive case into three steps:\n",
    "\n",
    "1. Move the upper n-1 discs from tower A to B (the temporary tower), using C as the in-between.\n",
    "2. Move the single lowest disc from A to C.\n",
    "3. Move the n-1 dics from tower B to C, using A as the in-between\n",
    "\n",
    "The amazing thing is that this recursive algorithm works not only for three discs, but for any number of discs. We will codify it as a function called hanoi() that is responsible for moving discs from one tower to another, given a third temporary tower."
   ]
  },
  {
   "cell_type": "code",
   "execution_count": 4,
   "id": "8559e249",
   "metadata": {},
   "outputs": [],
   "source": [
    "def hanoi(begin: Stack[int], end: Stack[int], temp: Stack[int], n: int) -> None:\n",
    "    if n == 1:\n",
    "        end.push(begin.pop())\n",
    "    else:\n",
    "        hanoi(begin, temp, end, n - 1)\n",
    "        hanoi(begin, end, temp, 1)\n",
    "        hanoi(temp, end, begin, n - 1)"
   ]
  },
  {
   "cell_type": "markdown",
   "id": "6fa4c2cb",
   "metadata": {},
   "source": [
    "After calling hanoi(), you should examine towers A, B, and C, to verify that the discs were moved successfully"
   ]
  },
  {
   "cell_type": "code",
   "execution_count": 5,
   "id": "d8c4830f",
   "metadata": {},
   "outputs": [
    {
     "ename": "AttributeError",
     "evalue": "'Stack' object has no attribute '_containter'",
     "output_type": "error",
     "traceback": [
      "\u001b[0;31m---------------------------------------------------------------------------\u001b[0m",
      "\u001b[0;31mAttributeError\u001b[0m                            Traceback (most recent call last)",
      "Cell \u001b[0;32mIn[5], line 3\u001b[0m\n\u001b[1;32m      1\u001b[0m \u001b[38;5;28;01mif\u001b[39;00m \u001b[38;5;18m__name__\u001b[39m \u001b[38;5;241m==\u001b[39m \u001b[38;5;124m\"\u001b[39m\u001b[38;5;124m__main__\u001b[39m\u001b[38;5;124m\"\u001b[39m:\n\u001b[1;32m      2\u001b[0m     hanoi(tower_a, tower_c, tower_b, num_discs)\n\u001b[0;32m----> 3\u001b[0m     \u001b[38;5;28;43mprint\u001b[39;49m\u001b[43m(\u001b[49m\u001b[43mtower_a\u001b[49m\u001b[43m)\u001b[49m\n\u001b[1;32m      4\u001b[0m     \u001b[38;5;28mprint\u001b[39m(tower_b)\n\u001b[1;32m      5\u001b[0m     \u001b[38;5;28mprint\u001b[39m(tower_c)\n",
      "Cell \u001b[0;32mIn[2], line 15\u001b[0m, in \u001b[0;36mStack.__repr__\u001b[0;34m(self)\u001b[0m\n\u001b[1;32m     14\u001b[0m \u001b[38;5;28;01mdef\u001b[39;00m \u001b[38;5;21m__repr__\u001b[39m(\u001b[38;5;28mself\u001b[39m) \u001b[38;5;241m-\u001b[39m\u001b[38;5;241m>\u001b[39m \u001b[38;5;28mstr\u001b[39m:\n\u001b[0;32m---> 15\u001b[0m     \u001b[38;5;28;01mreturn\u001b[39;00m \u001b[38;5;28mrepr\u001b[39m(\u001b[38;5;28;43mself\u001b[39;49m\u001b[38;5;241;43m.\u001b[39;49m\u001b[43m_containter\u001b[49m)\n",
      "\u001b[0;31mAttributeError\u001b[0m: 'Stack' object has no attribute '_containter'"
     ]
    }
   ],
   "source": [
    "if __name__ == \"__main__\":\n",
    "    hanoi(tower_a, tower_c, tower_b, num_discs)\n",
    "    print(tower_a)\n",
    "    print(tower_b)\n",
    "    print(tower_c)"
   ]
  },
  {
   "cell_type": "markdown",
   "id": "615fa023",
   "metadata": {},
   "source": [
    "You will find that they were. In codifying the solution to the Tower of Hanoi, we did not necessarily need to understand every step required to move mulitiple discs from tower A to tower C. But we came to understand the general recursive algorithm for moving any number of discs, and we codified it, letting the computer do the rest. This is the power of formulating recursive solutions to problems: we often can think of solutions in an abstract manner without the drudgery of negotiating every individual action in our minds. \n",
    "\n",
    "Incidentally, the hanoi() function will execute an exponential number of times as a function of the number of discs, which makes solving the problem for even 64 discs untenable. You can try it with various other numbers of discs by trying "
   ]
  }
 ],
 "metadata": {
  "kernelspec": {
   "display_name": "Python 3 (ipykernel)",
   "language": "python",
   "name": "python3"
  },
  "language_info": {
   "codemirror_mode": {
    "name": "ipython",
    "version": 3
   },
   "file_extension": ".py",
   "mimetype": "text/x-python",
   "name": "python",
   "nbconvert_exporter": "python",
   "pygments_lexer": "ipython3",
   "version": "3.11.3"
  }
 },
 "nbformat": 4,
 "nbformat_minor": 5
}
