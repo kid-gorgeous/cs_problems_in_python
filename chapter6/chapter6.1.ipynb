{
 "cells": [
  {
   "cell_type": "markdown",
   "id": "9924bb64",
   "metadata": {},
   "source": [
    "### Chapter 6 - K-means Clustering\n",
    "\n",
    "---\n",
    "Clustering is a computational technique that divides the points in a data set into groups. A succesful clustering results in groups that contain points in are. related to one another. Whether those relationships are meaningful generaly requires human verifaction.\n",
    "\n",
    "In clustering, the group (aka *cluster*) that a data point belongs to is not predetermined, but instead is decided during the run of the clustering algorithm. In fact, the algorithm is not guided to place any particular data point in any particular cluster by presupposed information. For this reason, clustering is considered an *unsupervised* method within the realm of machine learning. You can think of *unsupervised* as meaning *not guided by foreknowledge*.\n",
    "\n",
    "Clustering is a useful technique when you want to learn about the structure of a data set but you do not know ahead of time its constitent parts. If youre collecting data about customers and their transactions. You want to run mobile advertisements of specials at relevant times of the week to bring customers into your store. You could try clustering your daa by day of the week and demographic information. Perhaps you will find a cluster that indicates younger shoppers prefer to shop on Tuesdays, and you could use that information to run an ad specifically targeting them on that day.\n",
    "\n",
    "#### 6.1 Preleminaries\n",
    "\n",
    "Our clustering algorithm will require some statistical primitives (mean, standard deviation, and so on). Since Python provides serval usfl statisical primitives in the statistics module. \n",
    "\n",
    "For simplicity's sake, that data sets we will work with in this chapter are all expressible with the float type, so there will be many operations on lists and tuples of floats. The statistical primitives ```sum(), mean(), and pstdev()``` are defined in the standard library. Their definitions follow directly from the formulas you would find in a statisitc textbook. In addition, we will need a function for calculating z-scores."
   ]
  },
  {
   "cell_type": "code",
   "execution_count": 11,
   "id": "c189041f",
   "metadata": {},
   "outputs": [],
   "source": [
    "from __future__ import annotations\n",
    "from typing import Iterator, Tuple, List, Iterable\n",
    "from math import sqrt\n",
    "\n",
    "class DataPoint:\n",
    "    def __init__(self, initial: Iterable[float]) -> None:\n",
    "        self._originals: Tuple[float, ...] = tuple(initial)\n",
    "        self.dimensions: Tuple[float, ...] = tuple(initial)\n",
    "            \n",
    "    @property\n",
    "    def num_dimensions(self) -> int:\n",
    "        return len(self.dimensions)\n",
    "    \n",
    "    def distance(self, other: DataPoint) -> float:\n",
    "        combined: Iterator[Tuple[float, float]] = zip(self.dimensions,other.dimensions)\n",
    "        differences: List[float] = [(x - y) ** 2 for x,y in combined]\n",
    "        return sqrt(sum(differences)) \n",
    "    \n",
    "    def __eq__(self, other: object) -> bool: \n",
    "        if not isinstance(other, DataPoint):\n",
    "            return NotImplemented\n",
    "        return self.dimensions == other.dimensions\n",
    "    \n",
    "    def __repr__(self) -> str:\n",
    "        return self._originals.__repr__()"
   ]
  },
  {
   "cell_type": "code",
   "execution_count": 12,
   "id": "ab0ee4d4",
   "metadata": {},
   "outputs": [
    {
     "ename": "ImportError",
     "evalue": "cannot import name 'DataPoint' from 'data_point' (/Users/evan/Documents/school/Fall2022:Spring2023/cs_problems_in_python/chapter6/data_point.py)",
     "output_type": "error",
     "traceback": [
      "\u001b[0;31m---------------------------------------------------------------------------\u001b[0m",
      "\u001b[0;31mImportError\u001b[0m                               Traceback (most recent call last)",
      "Cell \u001b[0;32mIn[12], line 10\u001b[0m\n\u001b[1;32m      8\u001b[0m \u001b[38;5;28;01mfrom\u001b[39;00m \u001b[38;5;21;01mstatistics\u001b[39;00m \u001b[38;5;28;01mimport\u001b[39;00m mean, pstdev\n\u001b[1;32m      9\u001b[0m \u001b[38;5;28;01mfrom\u001b[39;00m \u001b[38;5;21;01mdataclasses\u001b[39;00m \u001b[38;5;28;01mimport\u001b[39;00m dataclass\n\u001b[0;32m---> 10\u001b[0m \u001b[38;5;28;01mfrom\u001b[39;00m \u001b[38;5;21;01mdata_point\u001b[39;00m \u001b[38;5;28;01mimport\u001b[39;00m DataPoint\n\u001b[1;32m     14\u001b[0m \u001b[38;5;28;01mdef\u001b[39;00m \u001b[38;5;21mzscores\u001b[39m(original: Sequence[\u001b[38;5;28mfloat\u001b[39m]) \u001b[38;5;241m-\u001b[39m\u001b[38;5;241m>\u001b[39m List[\u001b[38;5;28mfloat\u001b[39m]:\n\u001b[1;32m     15\u001b[0m     avg: \u001b[38;5;28mfloat\u001b[39m \u001b[38;5;241m=\u001b[39m mean(original)\n",
      "\u001b[0;31mImportError\u001b[0m: cannot import name 'DataPoint' from 'data_point' (/Users/evan/Documents/school/Fall2022:Spring2023/cs_problems_in_python/chapter6/data_point.py)"
     ]
    }
   ],
   "source": [
    "# Listing 6.1 kmeans.py\n",
    "\n",
    "from __future__ import annotations\n",
    "from typing import TypeVar, Generic, List, Sequence\n",
    "from copy import deepcopy\n",
    "from functools import partial\n",
    "from random import uniform\n",
    "from statistics import mean, pstdev\n",
    "from dataclasses import dataclass\n",
    "from data_point import DataPoint\n",
    "\n",
    "\n",
    "\n",
    "def zscores(original: Sequence[float]) -> List[float]:\n",
    "    avg: float = mean(original)\n",
    "    std: float = pstdev(original)\n",
    "    if std == 0: # return all zeros if there is no variation\n",
    "        return [0] * len(original)\n",
    "    return [(x - avg) / std]"
   ]
  },
  {
   "cell_type": "code",
   "execution_count": null,
   "id": "ce97e42a",
   "metadata": {},
   "outputs": [],
   "source": []
  }
 ],
 "metadata": {
  "kernelspec": {
   "display_name": "Python 3 (ipykernel)",
   "language": "python",
   "name": "python3"
  },
  "language_info": {
   "codemirror_mode": {
    "name": "ipython",
    "version": 3
   },
   "file_extension": ".py",
   "mimetype": "text/x-python",
   "name": "python",
   "nbconvert_exporter": "python",
   "pygments_lexer": "ipython3",
   "version": "3.11.3"
  }
 },
 "nbformat": 4,
 "nbformat_minor": 5
}
